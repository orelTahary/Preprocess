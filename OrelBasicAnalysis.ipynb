{
 "cells": [
  {
   "cell_type": "markdown",
   "metadata": {},
   "source": [
    "# Orel basic analysis"
   ]
  },
  {
   "cell_type": "code",
   "execution_count": null,
   "metadata": {},
   "outputs": [],
   "source": [
    "import os\n",
    "import logging\n",
    "logging.basicConfig(level=logging.INFO, format='%(levelname)s: %(asctime)s: %(message)s')\n",
    "\n",
    "import numpy as np\n",
    "print(f\"numpy version {np.__version__}\")\n",
    "import matplotlib\n",
    "import matplotlib.pyplot as plt\n",
    "print(f\"matplotlib version {matplotlib.__version__}\")\n",
    "import pandas as pd\n",
    "print(f\"pandas version {pd.__version__}\")\n",
    "import scipy.signal as sig\n",
    "from scipy import __version__ as ver\n",
    "print(f\"scipy version {ver}\")\n",
    "\n",
    "plt.rcParams['figure.figsize'] = [12, 12]\n",
    "# from pycorrelate import pcorrelate"
   ]
  },
  {
   "cell_type": "markdown",
   "metadata": {},
   "source": [
    "### Load binary file"
   ]
  },
  {
   "cell_type": "code",
   "execution_count": null,
   "metadata": {},
   "outputs": [],
   "source": [
    "dataDir = os.path.join('data', 'K6-2020-03-27')\n",
    "elc = 10\n",
    "fileList = list(range(0,265))\n",
    "rangeStr = \"-F{0}T{1}\".format(fileList[0], fileList[-1])\n",
    "\n",
    "fpath = os.path.join(dataDir, 'binMed', 'Elec' + str(elc) + rangeStr + '.bin')\n",
    "elec_data = np.fromfile(fpath,dtype=np.int16)\n",
    "bl,al = sig.butter(4, 50/(32000/2), btype='lowpass')\n",
    "lfp_data=sig.filtfilt(bl,al,elec_data)\n",
    "bb,ab = sig.butter(4, [300/16000, 8000/16000], btype='bandpass')\n",
    "spk_data=sig.filtfilt(bb,ab,elec_data)\n"
   ]
  },
  {
   "cell_type": "markdown",
   "metadata": {},
   "source": [
    "### Plot the neuronal data"
   ]
  },
  {
   "cell_type": "code",
   "execution_count": null,
   "metadata": {},
   "outputs": [],
   "source": [
    "# %matplotlib widget\n",
    "fig, ax = plt.subplots(figsize=(20,9), nrows=3, ncols=1, sharex=True)\n",
    "\n",
    "bs = 300000\n",
    "be = bs+32000*10\n",
    "t = np.arange(bs, be, 1) / 32000\n",
    "ax[0].plot(t, elec_data[bs:be])\n",
    "ax[0].set_title('Raw data')\n",
    "ax[1].plot(t, lfp_data[bs:be])\n",
    "ax[1].set_title('LFP data')\n",
    "ax[2].plot(t, spk_data[bs:be])\n",
    "ax[2].set_title('Spiking data');"
   ]
  },
  {
   "cell_type": "markdown",
   "metadata": {},
   "source": [
    "### Calculate covariance between channels"
   ]
  },
  {
   "cell_type": "code",
   "execution_count": null,
   "metadata": {},
   "outputs": [],
   "source": [
    "file_list = list(range(2,6))+list(range(7,22))+list(range(23,32))\n",
    "fileRange = [os.path.join(dataDir, 'binNew', f\"Elec{i}{rangeStr}.bin\") for i in file_list]\n",
    "offset = 32000 * 90\n",
    "count = 32000 * 240\n",
    "\n",
    "elec_array = np.zeros((len(file_list), count))\n",
    "for i, f in enumerate(fileRange):\n",
    "    elec_array[i,:] = np.fromfile(f, dtype=np.int16, count=count)\n",
    "    \n",
    "filt_array = sig.filtfilt(bb,ab,elec_array)\n",
    "lfp_array = sig.filtfilt(bl,al,elec_array)\n"
   ]
  },
  {
   "cell_type": "code",
   "execution_count": null,
   "metadata": {},
   "outputs": [],
   "source": [
    "# Ugly patch\n",
    "elec_array = elec_array[:,1000:]\n",
    "filt_array = filt_array[:,1000:]\n",
    "lfp_array = lfp_array[:,1000:]"
   ]
  },
  {
   "cell_type": "code",
   "execution_count": null,
   "metadata": {},
   "outputs": [],
   "source": [
    "# %matplotlib widget\n",
    "%matplotlib inline\n",
    "fig, ax = plt.subplots(figsize=(20,10), nrows=2, ncols=2, sharex=True)\n",
    "\n",
    "b, e = 400, 2000\n",
    "\n",
    "ax[0,0].plot(elec_array[7,0:32000])\n",
    "f,p = sig.welch(elec_array[7,:], fs=32000)\n",
    "r = (f>b) & (f<e)\n",
    "ax[0,1].plot(f[r],p[r])\n",
    "ax[0,1].set_xlim([b,e])\n",
    "\n",
    "ax[1,0].plot(elec_array[23,0:32000])\n",
    "f,p = sig.welch(elec_array[23,:], fs=32000)\n",
    "ax[0,1].plot(f[r],p[r])\n"
   ]
  },
  {
   "cell_type": "code",
   "execution_count": null,
   "metadata": {},
   "outputs": [],
   "source": [
    "# %matplotlib widget\n",
    "%matplotlib inline\n",
    "fig, ax = plt.subplots(figsize=(5,5), nrows=1, ncols=1, sharex=True)\n",
    "ax.plot(lfp_array[5:10, 0:120000].T)\n"
   ]
  },
  {
   "cell_type": "code",
   "execution_count": null,
   "metadata": {},
   "outputs": [],
   "source": [
    "ccr=np.corrcoef(elec_array)\n",
    "ccf=np.corrcoef(filt_array)\n",
    "ccl=np.corrcoef(lfp_array)"
   ]
  },
  {
   "cell_type": "code",
   "execution_count": null,
   "metadata": {},
   "outputs": [],
   "source": [
    "fig, ax = plt.subplots(figsize=(30,30), nrows=1, ncols=3, sharex=True)\n",
    "cax=ax[0]\n",
    "csr = cax.imshow(ccr)\n",
    "cax.set_title(f'Raw correlation matrix')\n",
    "cax.set_xticks(range(0, len(file_list)))\n",
    "cax.set_xticklabels(file_list)\n",
    "cax.set_yticks(range(0, len(file_list)))\n",
    "cax.set_yticklabels(file_list)\n",
    "fig.colorbar(csr, ax=ax[0])\n",
    "\n",
    "cax=ax[1]\n",
    "csf = cax.imshow(ccf)\n",
    "cax.set_title(f'Spike correlation matrix')\n",
    "cax.set_xticks(range(1, len(file_list)))\n",
    "cax.set_xticklabels(file_list)\n",
    "cax.set_yticks(range(1, len(file_list)))\n",
    "cax.set_yticklabels(file_list)\n",
    "fig.colorbar(csf, ax=ax[1])\n",
    "\n",
    "cax=ax[2]\n",
    "csl = cax.imshow(ccl)\n",
    "cax.set_title(f'Spike correlation matrix')\n",
    "cax.set_xticks(range(0, len(file_list)))\n",
    "cax.set_xticklabels(file_list)\n",
    "cax.set_yticks(range(0, len(file_list)))\n",
    "cax.set_yticklabels(file_list)\n",
    "fig.colorbar(csl, ax=ax[2])\n"
   ]
  },
  {
   "cell_type": "code",
   "execution_count": null,
   "metadata": {},
   "outputs": [],
   "source": [
    "d = (ccf>0.8) & (1-np.eye(len(file_list))).astype(bool)"
   ]
  },
  {
   "cell_type": "code",
   "execution_count": null,
   "metadata": {},
   "outputs": [],
   "source": [
    "e=d.nonzero()\n",
    "pairs = []\n",
    "for i in range(0, len(e[0])):\n",
    "    if (e[0][i]<e[1][i]):\n",
    "        pairs.append([file_list[e[0][i]], file_list[e[1][i]]])\n",
    "print(f'Problematic electrodes {pairs}')"
   ]
  },
  {
   "cell_type": "code",
   "execution_count": null,
   "metadata": {},
   "outputs": [],
   "source": []
  }
 ],
 "metadata": {
  "kernelspec": {
   "display_name": "Python 3",
   "language": "python",
   "name": "python3"
  },
  "language_info": {
   "codemirror_mode": {
    "name": "ipython",
    "version": 3
   },
   "file_extension": ".py",
   "mimetype": "text/x-python",
   "name": "python",
   "nbconvert_exporter": "python",
   "pygments_lexer": "ipython3",
   "version": "3.6.9"
  }
 },
 "nbformat": 4,
 "nbformat_minor": 4
}
