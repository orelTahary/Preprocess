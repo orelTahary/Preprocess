{
 "cells": [
  {
   "cell_type": "markdown",
   "metadata": {},
   "source": [
    "# Initial analysis of AO files"
   ]
  },
  {
   "cell_type": "code",
   "execution_count": null,
   "metadata": {},
   "outputs": [],
   "source": [
    "import logging\n",
    "\n",
    "import numpy as np\n",
    "print(f\"numpy version {np.__version__}\")\n",
    "import matplotlib\n",
    "import matplotlib.pyplot as plt\n",
    "print(f\"matplotlib version {matplotlib.__version__}\")\n",
    "import pandas as pd\n",
    "print(f\"pandas version {pd.__version__}\")\n",
    "import scipy.signal as sig\n",
    "import scipy.io as sio\n",
    "from scipy import __version__ as sciver\n",
    "print(f\"scipy version {sciver}\")\n",
    "\n",
    "# Enable reloading of packages upon changes\n",
    "%reload_ext autoreload\n",
    "%autoreload 2\n",
    "\n",
    "# Enable resizing of Jupyter notebook based on the browser width\n",
    "from IPython.core.display import display, HTML\n",
    "display(HTML(\"<style>.container { width:100% !important; }</style>\"))\n",
    "\n",
    "logging.basicConfig(level=logging.INFO, format='%(levelname)s: %(asctime)s: %(message)s')"
   ]
  },
  {
   "cell_type": "markdown",
   "metadata": {},
   "source": [
    "## Parameters"
   ]
  },
  {
   "cell_type": "code",
   "execution_count": null,
   "metadata": {},
   "outputs": [],
   "source": [
    "sampRate = 44000\n",
    "\n",
    "fileDir = 'X:\\\\Katya\\\\K4\\\\15-12-2019\\\\'\n",
    "#fileDir = 'C:\\\\IBG\\\\data\\\\Katya\\\\29-12-2019\\\\'\n",
    "filePrefix = 'F191215-'\n",
    "\n",
    "fileList = list(range(6,24))\n",
    "#fileList = list(range(5,18))\n",
    "logging.info(f'Files: {fileList}')\n",
    "\n",
    "#elecList = [8, 10, 12, 14, 18, 19, 22, 25, 31]\n",
    "#elecList = [2,11,13,18,19,21,22,23,24,26,29,30,31,32]\n",
    "elecList = list(range(1,33))\n",
    "\n",
    "#goodElecList = [2,11,13,18,19,21,22,23,24,26,29,30,31,32]\n",
    "goodElecList = [2,5,7,11,13,18,19,22,23,26,27,29,31]\n",
    "#badElecList = [1,20,21,25]\n",
    "badElecList = []\n",
    "refElecList = set(elecList) - set(goodElecList) - set(badElecList)\n",
    "\n",
    "def splitList(elecList):\n",
    "    lowList = [x for x in elecList if x<17 ]\n",
    "    highList = [x for x in elecList if x>16 ]\n",
    "    return lowList, highList\n",
    "\n",
    "lowGoodList, highGoodList = splitList(goodElecList)\n",
    "lowRefList, highRefList = splitList(goodElecList)\n",
    "\n",
    "logging.info(f'electrodes: {elecList}')\n",
    "\n",
    "bPass, aPass = sig.butter(4, [300/(sampRate/2),8000/(sampRate/2)], btype='bandpass')\n",
    "bNotch, aNotch = sig.iirnotch(50/(1000/2), 30)"
   ]
  },
  {
   "cell_type": "markdown",
   "metadata": {},
   "source": [
    "## Convert files"
   ]
  },
  {
   "cell_type": "code",
   "execution_count": null,
   "metadata": {},
   "outputs": [],
   "source": [
    "for elecNum in elecList:\n",
    "    elecName = f'CRAW_{elecNum:03d}'\n",
    "    logging.info(f'Processing electrode: {elecName}')\n",
    "    outRawFileName = f'{fileDir}{filePrefix}Raw{elecNum:03d}-{fileList[0]}-{fileList[-1]}.bin' \n",
    "    outFilterFileName = f'{fileDir}{filePrefix}Filter{elecNum:03d}-{fileList[0]}-{fileList[-1]}.bin' \n",
    "    outLfpFileName = f'{fileDir}{filePrefix}Lfp{elecNum:03d}-{fileList[0]}-{fileList[-1]}.bin' \n",
    "    elecData = [None] * len(fileList)\n",
    "    for i, fileNum in enumerate(fileList):\n",
    "        fileName = f'{fileDir}{filePrefix}{fileNum:04d}.mat'\n",
    "        logging.info(f'Processing electrode: {fileName}')\n",
    "        matList=sio.loadmat(fileName, variable_names=elecName)\n",
    "        elecData[i] = matList[elecName][0,:]\n",
    "    allData = np.concatenate(elecData)\n",
    "    allData.tofile(outRawFileName)\n",
    "    filtData = sig.filtfilt(bPass, aPass, allData)\n",
    "    filtData.astype('int16').tofile(outFilterFileName)\n",
    "    lfpData = sig.decimate(allData, int(sampRate/1000), ftype='fir')\n",
    "    lfpData = sig.filtfilt(bNotch, aNotch, lfpData)\n",
    "    lfpData.astype('int16').tofile(outLfpFileName)"
   ]
  },
  {
   "cell_type": "code",
   "execution_count": null,
   "metadata": {},
   "outputs": [],
   "source": [
    "def createRef(elecList,outFile,batchSize=1000000):\n",
    "    ifids = []\n",
    "    ofid = open(outFile,'w')\n",
    "    for elecNum in elecList:\n",
    "        filterFileName = f'{fileDir}{filePrefix}Filter{elecNum:03d}-{fileList[0]}-{fileList[-1]}.bin' \n",
    "        print(outFile)\n",
    "        print(filterFileName)\n",
    "        try:\n",
    "            ifids.append(open(filterFileName, 'r'))\n",
    "        except OSError:\n",
    "            logging.error(f'Cannot open file {filterFileName}')\n",
    "            return \n",
    "    location, readMore = 0, True\n",
    "    inBuffer = np.zeros((len(elecList), batchSize), dtype=np.int16)\n",
    "    while readMore:\n",
    "        logging.info(f'Reading location {location}.')\n",
    "        for i, elec in enumerate(elecList):\n",
    "            data = np.fromfile(ifids[i], count=batchSize, dtype=np.int16)\n",
    "            if i == 0 and data.shape[0] != batchSize:\n",
    "                inBuffer = np.zeros((len(elecList), data.shape[0]), dtype=np.int16)\n",
    "                readMore = False\n",
    "            inBuffer[i, :] = data\n",
    "        medianBuffer = np.median(inBuffer, axis=0)\n",
    "        medianBuffer.astype(np.int16).tofile(ofid)\n",
    "        location += data.shape[0]\n",
    "    logging.info(f'Finished writing {location} samepls to reference file.')\n",
    "    ofid.close()\n",
    "    for ifid in ifids:\n",
    "        ifid.close()\n",
    "\n",
    "def removeRef(elecList,refFile,batchSize=1000000):\n",
    "    ifids, ofids = [], []\n",
    "    rfid = open(refFile,'r')\n",
    "    for elecNum in elecList:\n",
    "        inFileName = f'{fileDir}{filePrefix}Filter{elecNum:03d}-{fileList[0]}-{fileList[-1]}.bin' \n",
    "        outFileName = f'{fileDir}{filePrefix}FilterRef{elecNum:03d}-{fileList[0]}-{fileList[-1]}.bin' \n",
    "        try:\n",
    "            ifids.append(open(inFileName, 'r'))\n",
    "            ofids.append(open(outFileName, 'w'))\n",
    "        except OSError:\n",
    "            logging.error(f'Cannot open file {inFileName} {outFileName}')\n",
    "            return \n",
    "    location, readMore = 0, True\n",
    "    while readMore:\n",
    "        refBuffer = np.fromfile(rfid, count=batchSize, dtype=np.int16)\n",
    "        logging.info(f'Reading location {location}.')\n",
    "        for i, elec in enumerate(elecList):\n",
    "            buffer = np.fromfile(ifids[i], count=batchSize, dtype=np.int16)\n",
    "            if i == 0 and buffer.shape[0] != batchSize:\n",
    "                readMore = False\n",
    "            buffer = buffer - refBuffer\n",
    "            buffer.astype(np.int16).tofile(ofids[i])\n",
    "        location += buffer.shape[0]\n",
    "    logging.info(f'Finished writing {location} samples to reference file.')\n",
    "    rfid.close()\n",
    "    for ifid in ifids:\n",
    "        ifid.close()\n",
    "    for ofid in ifids:\n",
    "        ofid.close()\n",
    " \n",
    "createRef(lowRefList,f'{fileDir}{filePrefix}FilterLowRef-{fileList[0]}-{fileList[-1]}.bin' )\n",
    "removeRef(lowGoodList,f'{fileDir}{filePrefix}FilterLowRef-{fileList[0]}-{fileList[-1]}.bin' )\n",
    "\n",
    "createRef(highRefList,f'{fileDir}{filePrefix}FilterHighRef-{fileList[0]}-{fileList[-1]}.bin' )\n",
    "removeRef(highGoodList,f'{fileDir}{filePrefix}FilterHighRef-{fileList[0]}-{fileList[-1]}.bin' )\n"
   ]
  },
  {
   "cell_type": "code",
   "execution_count": null,
   "metadata": {},
   "outputs": [],
   "source": [
    "samples=10000000\n",
    "\n",
    "rawData = [None] * 33\n",
    "lfpData = [None] * 33\n",
    "filterData = [None] * 33\n",
    "cleanData = [None] * 33\n",
    "refData = [None] *2\n",
    "\n",
    "for elecNum in goodElecList:\n",
    "    rawFileName = f'{fileDir}{filePrefix}Raw{elecNum:03d}-{fileList[0]}-{fileList[-1]}.bin' \n",
    "    rawData[elecNum] = np.fromfile(rawFileName,dtype=np.int16, count=samples)\n",
    "    filterFileName = f'{fileDir}{filePrefix}Filter{elecNum:03d}-{fileList[0]}-{fileList[-1]}.bin' \n",
    "    filterData[elecNum] = np.fromfile(filterFileName,dtype=np.int16, count=samples)\n",
    "    cleanFileName = f'{fileDir}{filePrefix}FilterRef{elecNum:03d}-{fileList[0]}-{fileList[-1]}.bin' \n",
    "    cleanData[elecNum] = np.fromfile(cleanFileName,dtype=np.int16, count=samples)\n",
    "    lfpFileName = f'{fileDir}{filePrefix}Lfp{elecNum:03d}-{fileList[0]}-{fileList[-1]}.bin' \n",
    "    lfpData[elecNum] = np.fromfile(lfpFileName,dtype=np.int16)\n",
    "\n",
    "lowRefFileName = f'{fileDir}{filePrefix}FilterLowRef-{fileList[0]}-{fileList[-1]}.bin' \n",
    "refData[0] = np.fromfile(lowRefFileName,dtype=np.int16)\n",
    "highRefFileName = f'{fileDir}{filePrefix}FilterHighRef-{fileList[0]}-{fileList[-1]}.bin' \n",
    "refData[1] = np.fromfile(highRefFileName,dtype=np.int16)"
   ]
  },
  {
   "cell_type": "code",
   "execution_count": null,
   "metadata": {},
   "outputs": [],
   "source": [
    "%matplotlib widget                 \n",
    "matplotlib.rcParams['figure.figsize'] = [30, 40]\n",
    "b=6500000\n",
    "e=b+44000*10\n",
    "plotDiff = 2000\n",
    "#plt.plot(rawData[0][b:e],'r', linewidth=0.5)\n",
    "plt.plot(refData[0][b:e]-1*plotDiff,'g', linewidth=0.5)\n",
    "plt.plot(refData[1][b:e]-2*plotDiff,'b', linewidth=0.5)\n",
    "for i,elecNum in enumerate(goodElecList):\n",
    "    plt.plot(filterData[elecNum][b:e]-(2*i+3)*2000,linewidth=0.5)\n",
    "    plt.plot(cleanData[elecNum][b:e]-(2*i+4)*2000,linewidth=0.5)\n",
    "plt.legend()"
   ]
  },
  {
   "cell_type": "code",
   "execution_count": null,
   "metadata": {},
   "outputs": [],
   "source": [
    "cleanData = sig.filtfilt(bNotch, aNotch, lfpData)\n",
    "f, Pxx_den = sig.welch(cleanData, 1000, nperseg=1024)\n",
    "plt.semilogy(f, Pxx_den)"
   ]
  },
  {
   "cell_type": "code",
   "execution_count": null,
   "metadata": {},
   "outputs": [],
   "source": [
    "samples=10000000\n",
    "\n",
    "filterData = [None] * 33\n",
    "\n",
    "for elecNum in elecList:\n",
    "    filterFileName = f'{fileDir}{filePrefix}Filter{elecNum:03d}-{fileList[0]}-{fileList[-1]}.bin' \n",
    "    filterData[elecNum] = np.fromfile(filterFileName,dtype=np.int16, count=samples)"
   ]
  },
  {
   "cell_type": "code",
   "execution_count": null,
   "metadata": {},
   "outputs": [],
   "source": [
    "a=np.corrcoef([filterData[elecNum] for elecNum in elecList])\n",
    "%matplotlib widget      \n",
    "matplotlib.rcParams['figure.figsize'] = [30, 10]\n",
    "plt.imshow(a)\n",
    "plt.colorbar()\n"
   ]
  },
  {
   "cell_type": "code",
   "execution_count": null,
   "metadata": {},
   "outputs": [],
   "source": []
  }
 ],
 "metadata": {
  "kernelspec": {
   "display_name": "Python 3",
   "language": "python",
   "name": "python3"
  },
  "language_info": {
   "codemirror_mode": {
    "name": "ipython",
    "version": 3
   },
   "file_extension": ".py",
   "mimetype": "text/x-python",
   "name": "python",
   "nbconvert_exporter": "python",
   "pygments_lexer": "ipython3",
   "version": "3.6.8"
  }
 },
 "nbformat": 4,
 "nbformat_minor": 4
}
