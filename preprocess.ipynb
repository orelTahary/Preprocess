{
 "cells": [
  {
   "cell_type": "markdown",
   "metadata": {},
   "source": [
    "# Preprocessing of IBG lab wireless data"
   ]
  },
  {
   "cell_type": "code",
   "execution_count": null,
   "metadata": {},
   "outputs": [],
   "source": [
    "import time\n",
    "import pickle\n",
    "import os\n",
    "import logging\n",
    "\n",
    "import numpy as np\n",
    "import matplotlib.pyplot as plt\n",
    "import pandas as pd\n",
    "import scipy.signal as sig\n",
    "\n",
    "import preprocess as pp\n",
    "\n",
    "%reload_ext autoreload\n",
    "%autoreload 2"
   ]
  },
  {
   "cell_type": "markdown",
   "metadata": {},
   "source": [
    "## Setup logging\n",
    "By defaut, it prints all warning messages to stdout while also recording debug"
   ]
  },
  {
   "cell_type": "code",
   "execution_count": null,
   "metadata": {},
   "outputs": [],
   "source": [
    "formatter = logging.Formatter('%(asctime)s %(funcName)5s %(levelname)s: %(message)s')\n",
    "logFile = 'preprocess log'\n",
    "# logging.basicConfig(format=form)\n",
    "logger = logging.getLogger()\n",
    "logger.setLevel(logging.DEBUG)\n",
    "fh = logging.FileHandler('preprocessing.log')\n",
    "fh.setLevel(logging.DEBUG)\n",
    "fh.setFormatter(formatter)\n",
    "logger.addHandler(fh)\n",
    "\n",
    "sh = logging.StreamHandler()\n",
    "sh.setLevel(logging.INFO)\n",
    "sh.setFormatter(formatter)\n",
    "logger.addHandler(sh)"
   ]
  },
  {
   "cell_type": "markdown",
   "metadata": {},
   "source": [
    "## Setup parameters"
   ]
  },
  {
   "cell_type": "code",
   "execution_count": null,
   "metadata": {},
   "outputs": [],
   "source": [
    "# Directory holding the DT2 files\n",
    "#dataDir = '/home/orel/Data/K6/2020-03-27/WL/'\n",
    "#dataDir = \"D:\\\\Users\\\\Matan\\\\Downloads\\\\preprocess files test\\\\\"\n",
    "dataDir = '/home/ibg/src/Preprocess/DO2/'\n",
    "\n",
    "# List of the electrdoe for conversions\n",
    "#elecList = list(range(2,6))+list(range(7,22))+list(range(23,33))\n",
    "elecList = list(range(2,3))\n",
    "\n",
    "# List of files for conversion\n",
    "fileList = list(range(0,200))\n",
    "\n",
    "rangeStr = \"-F{0}T{1}\".format(fileList[0], fileList[-1])"
   ]
  },
  {
   "cell_type": "markdown",
   "metadata": {},
   "source": [
    "## Plot example of data\n",
    "The original data is stored in DT2 files - 32ch multiplexed data sampled at 32KHZ"
   ]
  },
  {
   "cell_type": "code",
   "execution_count": null,
   "metadata": {},
   "outputs": [],
   "source": [
    "%matplotlib widget\n",
    "\n",
    "exTimeRange = [0, 8]\n",
    "exElecs = [2, 7, 4]\n",
    "exFile = 12\n",
    "\n",
    "fig, axes = pp.plotWireless(os.path.join(dataDir,f'NEUR{exFile:04d}.DT2'), exTimeRange, exElecs)\n",
    "fig.set_size_inches((6,2))"
   ]
  },
  {
   "cell_type": "markdown",
   "metadata": {},
   "source": [
    "# The first tranformation is to continuous binary files separated by channel number"
   ]
  },
  {
   "cell_type": "code",
   "execution_count": null,
   "metadata": {},
   "outputs": [],
   "source": [
    "# elecList = list(range(2,15))+[17,18]+list(range(20,32))\n",
    "# fileList = list(range(0,214))\n",
    "\n",
    "timeBegin = time.time()\n",
    "lData = pp.wirelessToBin(dataDir,dataDir + 'binNew/',fileList, elecList, verbose=False)\n",
    "timeEnd = time.time()\n",
    "print(f\"Converted {len(elecList)} electrodes {lData:,d} samples in {timeEnd-timeBegin:.2f} seconds\")"
   ]
  },
  {
   "cell_type": "code",
   "execution_count": null,
   "metadata": {},
   "outputs": [],
   "source": [
    "fig, axes = pp.plotBin(os.path.join(\"D:\\\\Users\\\\Matan\\\\Downloads\\\\preprocess files test\\\\binNew\", 'Elec2-F0T5.bin'), [10.05,10.2])\n",
    "fig.set_size_inches((30,5))"
   ]
  },
  {
   "cell_type": "markdown",
   "metadata": {},
   "source": [
    "# Binary data can be downsampled to 1 KHz and band pass and (opt) notch filtered"
   ]
  },
  {
   "cell_type": "code",
   "execution_count": null,
   "metadata": {},
   "outputs": [],
   "source": [
    "timeBegin = time.time()\n",
    "pp.binToLFP(dataDir+'binNew/', dataDir+'binLFPN/', '{0}Elec{1}' + rangeStr + '.bin', elecList\n",
    "                    , freq=[2, 300], notch=True, verbose=True)\n",
    "timeEnd = time.time()\n",
    "print(f\"Downsampled {len(elecList)} electrodes in {timeEnd-timeBegin:.2f} seconds\")"
   ]
  },
  {
   "cell_type": "code",
   "execution_count": null,
   "metadata": {},
   "outputs": [],
   "source": [
    "fig, axes = pp.plotBin(dataDir + 'binLFPN/Elec3' + rangeStr+ '.bin', [0, 5], samplingRate=1000)\n",
    "fig.set_size_inches((10,5))"
   ]
  },
  {
   "cell_type": "markdown",
   "metadata": {},
   "source": [
    "# Remove median from the electrodes"
   ]
  },
  {
   "cell_type": "code",
   "execution_count": null,
   "metadata": {},
   "outputs": [],
   "source": [
    "# Remove median from SNr electrodes:\n",
    "elecList = list(range(2,6))+list(range(7,17))\n",
    "timeBegin = time.time()\n",
    "pp.remMedian(os.path.join(dataDir, 'binBand'), os.path.join(dataDir, 'binMed') , elecList, rangeStr, batchSize=1000000, verbose=True)\n",
    "timeEnd = time.time()\n",
    "print(f\"Remove median for {len(elecList)} in {timeEnd-timeBegin} seconds \")"
   ]
  },
  {
   "cell_type": "code",
   "execution_count": null,
   "metadata": {},
   "outputs": [],
   "source": [
    "# Remove median from Str electrodes:\n",
    "elecList = list(list(range(17,22))+list(range(23,32)))\n",
    "timeBegin = time.time()\n",
    "pp.remMedian(os.path.join(dataDir, 'binBand'), os.path.join(dataDir, 'binMed'), elecList, rangeStr, batchSize=1000000, verbose=True)\n",
    "timeEnd = time.time()\n",
    "print(f\"Remove median for {len(elecList)} in {timeEnd-timeBegin} seconds \")"
   ]
  },
  {
   "cell_type": "code",
   "execution_count": null,
   "metadata": {},
   "outputs": [],
   "source": [
    "elc = 10\n",
    "fig, axes = pp.plotBin(os.path.join(dataDir, 'binBand', 'Elec' + str(elc) + rangeStr + '.bin'), [0, 0.5])\n",
    "fig.set_size_inches((10,5))"
   ]
  },
  {
   "cell_type": "markdown",
   "metadata": {},
   "source": [
    "# Kinematic data"
   ]
  },
  {
   "cell_type": "code",
   "execution_count": null,
   "metadata": {},
   "outputs": [],
   "source": [
    "# REad kinematic data\n",
    "df = pp.wirelessToMotion(dataDir, fileList, outDir=os.path.join(dataDir,'binNew'), verbose=False)\n",
    "logging.info(f'Extract kinematic parameters in {timeEnd-timeBegin:.1f} seconds')\n",
    "# Remove saturating periods \n",
    "df = pp.trimoscillations(df, lp=100)"
   ]
  },
  {
   "cell_type": "code",
   "execution_count": null,
   "metadata": {},
   "outputs": [],
   "source": [
    "%matplotlib widget\n",
    "fig, ax = plt.subplots(nrows=1, ncols=1, figsize=(8,4),squeeze=False)\n",
    "\n",
    "bRange, eRange = 430000, 540000\n",
    "df = df.astype(float)\n",
    "# plt.plot(np.sqrt(df['gyr','x'][bRange:eRange]**2+df['gyr','y'][bRange:eRange]**2+df['gyr','z'][bRange:eRange]**2),label='gyrV')\n",
    "#plt.plot(df['gyr','x'][bRange:eRange],label='gyrX')\n",
    "# plt.plot(df['gyr','y'][bRange:eRange],label='gyrY')\n",
    "# plt.plot(df['gyr','z'][bRange:eRange],label='gyrZ')\n",
    "plt.plot(np.sqrt(df['acc','x'][bRange:eRange]**2+df['acc','y'][bRange:eRange]**2+df['acc','z'][bRange:eRange]**2),label='accV')\n",
    "plt.plot(df['acc','x'][bRange:eRange],label='accX')\n",
    "plt.plot(df['acc','y'][bRange:eRange],label='accY')\n",
    "plt.plot(df['acc','z'][bRange:eRange],label='accZ')\n",
    "#plt.plot(df['mag','x'][bRange:eRange]*100,label='magX')\n",
    "plt.legend()\n",
    "plt.show()"
   ]
  },
  {
   "cell_type": "code",
   "execution_count": null,
   "metadata": {},
   "outputs": [],
   "source": [
    "%matplotlib widget\n",
    "fig, ax = plt.subplots(nrows=1, ncols=1, figsize=(8,4),squeeze=False)\n",
    "\n",
    "f,t,s = sig.spectrogram(df['acc','z'],fs=1000)\n",
    "ax[0,0].pcolormesh(t, f, np.log(s), shading='gouraud')\n",
    "ax[0,0].set_xlabel('Time (s)')\n",
    "ax[0,0].set_ylabel('Freq (Hz)');"
   ]
  },
  {
   "cell_type": "markdown",
   "metadata": {},
   "source": [
    "# May pass high pass filter to remove any remaining low frequencies from the data"
   ]
  },
  {
   "cell_type": "code",
   "execution_count": null,
   "metadata": {},
   "outputs": [],
   "source": [
    "elecList = list(range(2,6))+list(range(7,22))+list(range(23,32))\n",
    "pp.bandpass_filter(os.path.join(dataDir,'binNew'), os.path.join(dataDir,'binBand'), 'Elec{0}' + rangeStr + '.bin', elecList, freq=[300, 6000])"
   ]
  },
  {
   "cell_type": "code",
   "execution_count": null,
   "metadata": {},
   "outputs": [],
   "source": [
    "rng = [3,5]\n",
    "elc = 27\n",
    "\n",
    "fig, axes = pp.plotBin(os.path.join(dataDir,'binMed','Elec' + str(elc) + rangeStr + '.bin'), rng)\n",
    "fig.set_size_inches((10,5))"
   ]
  },
  {
   "cell_type": "code",
   "execution_count": null,
   "metadata": {},
   "outputs": [],
   "source": [
    "fig, axes = pp.plotBin(os.path.join(dataDir, 'binBand', 'Elec' + str(elc) + rangeStr + '.bin'), rng)\n",
    "fig.set_size_inches((10,5))"
   ]
  },
  {
   "cell_type": "code",
   "execution_count": null,
   "metadata": {},
   "outputs": [],
   "source": []
  },
  {
   "cell_type": "code",
   "execution_count": null,
   "metadata": {},
   "outputs": [],
   "source": []
  }
 ],
 "metadata": {
  "kernelspec": {
   "display_name": "Python 3 (ipykernel)",
   "language": "python",
   "name": "python3"
  },
  "language_info": {
   "codemirror_mode": {
    "name": "ipython",
    "version": 3
   },
   "file_extension": ".py",
   "mimetype": "text/x-python",
   "name": "python",
   "nbconvert_exporter": "python",
   "pygments_lexer": "ipython3",
   "version": "3.8.8"
  }
 },
 "nbformat": 4,
 "nbformat_minor": 4
}
