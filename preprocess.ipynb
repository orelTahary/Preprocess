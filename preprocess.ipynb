{
 "cells": [
  {
   "cell_type": "markdown",
   "metadata": {},
   "source": [
    "# Preprocessing of IBG lab wireless data"
   ]
  },
  {
   "cell_type": "code",
   "execution_count": null,
   "metadata": {},
   "outputs": [],
   "source": [
    "import time\n",
    "import pickle\n",
    "import os\n",
    "\n",
    "import numpy as np\n",
    "print(f\"numpy version {np.__version__}\")\n",
    "import matplotlib\n",
    "import matplotlib.pyplot as plt\n",
    "print(f\"matplotlib version {matplotlib.__version__}\")\n",
    "import pandas as pd\n",
    "print(f\"pandas version {pd.__version__}\")\n",
    "import preprocess as pp\n",
    "print(f\"preprocess version {pp.__version__}\")\n",
    "import scipy.signal as sig\n",
    "from scipy import __version__ as ver\n",
    "print(f\"scipy version {ver}\")\n",
    "\n",
    "# Enable reloading of packages upon changes\n",
    "%reload_ext autoreload\n",
    "%autoreload 2\n",
    "\n",
    "# Enable resizing of Jupyter notebook based on the browser width\n",
    "from IPython.core.display import display, HTML\n",
    "display(HTML(\"<style>.container { width:100% !important; }</style>\"))"
   ]
  },
  {
   "cell_type": "code",
   "execution_count": null,
   "metadata": {},
   "outputs": [],
   "source": [
    "# setting up a logger for the module, \n",
    "# by defaut, it would print all warning messages to stdout \n",
    "# while also recording debug\n",
    "import logging\n",
    "\n",
    "formatter = logging.Formatter('%(asctime)s %(funcName)5s %(levelname)s: %(message)s')\n",
    "logFile = 'preprocess log'\n",
    "# logging.basicConfig(format=form)\n",
    "logger = logging.getLogger()\n",
    "logger.setLevel(logging.DEBUG)\n",
    "fh = logging.FileHandler('preprocessing.log')\n",
    "fh.setLevel(logging.DEBUG)\n",
    "fh.setFormatter(formatter)\n",
    "logger.addHandler(fh)\n",
    "\n",
    "sh = logging.StreamHandler()\n",
    "sh.setLevel(logging.WARNING)\n",
    "sh.setFormatter(formatter)\n",
    "logger.addHandler(sh)"
   ]
  },
  {
   "cell_type": "code",
   "execution_count": null,
   "metadata": {},
   "outputs": [],
   "source": [
    "#dataDir = '/home/orel/Data/K6/2020-03-27/WL/'\n",
    "dataDir = os.path.join('data', 'K6-2020-03-27')\n",
    "elecList = list(range(2,6))+list(range(7,22))+list(range(23,33))\n",
    "fileList = list(range(0,265))\n",
    "rangeStr = \"-F{0}T{1}\".format(fileList[0], fileList[-1])"
   ]
  },
  {
   "cell_type": "markdown",
   "metadata": {},
   "source": [
    "# The original data is stored in DT2 files - 32ch multiplexed data sampled at 32KHZ"
   ]
  },
  {
   "cell_type": "code",
   "execution_count": null,
   "metadata": {
    "scrolled": true
   },
   "outputs": [],
   "source": [
    "fig, axes = pp.plotWireless(dataDir + 'NEUR0121.DT2', [0, 8], [2,7,14])\n",
    "fig.set_size_inches((15,2))"
   ]
  },
  {
   "cell_type": "markdown",
   "metadata": {},
   "source": [
    "# The first tranformation is to continuous binary files separated by channel number"
   ]
  },
  {
   "cell_type": "code",
   "execution_count": null,
   "metadata": {},
   "outputs": [],
   "source": [
    "# elecList = list(range(2,15))+[17,18]+list(range(20,32))\n",
    "# fileList = list(range(0,214))\n",
    "\n",
    "timeBegin = time.time()\n",
    "lData = pp.wirelessToBin(dataDir,dataDir + 'binNew/',fileList, elecList, verbose=False)\n",
    "timeEnd = time.time()\n",
    "print(f\"Converted {len(elecList)} electrodes {lData:,d} samples in {timeEnd-timeBegin:.2f} seconds\")"
   ]
  },
  {
   "cell_type": "code",
   "execution_count": null,
   "metadata": {},
   "outputs": [],
   "source": [
    "fig, axes = pp.plotBin(os.path.join(dataDir,'binNew', 'Elec27'+rangeStr+'.bin'), [10.05,10.2])\n",
    "fig.set_size_inches((30,5))"
   ]
  },
  {
   "cell_type": "markdown",
   "metadata": {},
   "source": [
    "# Binary data can be downsampled to 1 KHz and band pass and (opt) notch filtered"
   ]
  },
  {
   "cell_type": "code",
   "execution_count": null,
   "metadata": {
    "scrolled": true
   },
   "outputs": [],
   "source": [
    "timeBegin = time.time()\n",
    "pp.binToLFP(dataDir+'binNew/', dataDir+'binLFPN/', '{0}Elec{1}' + rangeStr + '.bin', elecList\n",
    "                    , freq=[2, 300], notch=True, verbose=True)\n",
    "timeEnd = time.time()\n",
    "print(f\"Downsampled {len(elecList)} electrodes in {timeEnd-timeBegin:.2f} seconds\")"
   ]
  },
  {
   "cell_type": "code",
   "execution_count": null,
   "metadata": {
    "scrolled": true
   },
   "outputs": [],
   "source": [
    "fig, axes = pp.plotBin(dataDir + 'binLFPN/Elec3' + rangeStr+ '.bin', [0, 5], samplingRate=1000)\n",
    "fig.set_size_inches((10,5))"
   ]
  },
  {
   "cell_type": "markdown",
   "metadata": {},
   "source": [
    "# Remove median from the electrodes"
   ]
  },
  {
   "cell_type": "code",
   "execution_count": null,
   "metadata": {
    "scrolled": true
   },
   "outputs": [],
   "source": [
    "# Remove median from SNr electrodes:\n",
    "elecList = list(range(2,6))+list(range(7,17))\n",
    "timeBegin = time.time()\n",
    "pp.remMedian(os.path.join(dataDir, 'binBand'), os.path.join(dataDir, 'binMed') , elecList, rangeStr, batchSize=1000000, verbose=True)\n",
    "timeEnd = time.time()\n",
    "print(f\"Remove median for {len(elecList)} in {timeEnd-timeBegin} seconds \")"
   ]
  },
  {
   "cell_type": "code",
   "execution_count": null,
   "metadata": {},
   "outputs": [],
   "source": [
    "# Remove median from Str electrodes:\n",
    "elecList = list(list(range(17,22))+list(range(23,32)))\n",
    "timeBegin = time.time()\n",
    "pp.remMedian(os.path.join(dataDir, 'binBand'), os.path.join(dataDir, 'binMed'), elecList, rangeStr, batchSize=1000000, verbose=True)\n",
    "timeEnd = time.time()\n",
    "print(f\"Remove median for {len(elecList)} in {timeEnd-timeBegin} seconds \")"
   ]
  },
  {
   "cell_type": "code",
   "execution_count": null,
   "metadata": {},
   "outputs": [],
   "source": [
    "elc = 10\n",
    "fig, axes = pp.plotBin(os.path.join(dataDir, 'binBand', 'Elec' + str(elc) + rangeStr + '.bin'), [0, 0.5])\n",
    "fig.set_size_inches((10,5))"
   ]
  },
  {
   "cell_type": "markdown",
   "metadata": {},
   "source": [
    "# The kinematic data may be extracted from the raw files"
   ]
  },
  {
   "cell_type": "code",
   "execution_count": null,
   "metadata": {
    "scrolled": true
   },
   "outputs": [],
   "source": [
    "timeBegin = time.time()\n",
    "df = pp.wirelessToMotion(dataDir,fileList,outDir=dataDir+'binNew/', verbose=True)\n",
    "timeEnd = time.time()\n",
    "print(f\"Extract kinematic parameters in {timeEnd-timeBegin} seconds \")"
   ]
  },
  {
   "cell_type": "code",
   "execution_count": null,
   "metadata": {},
   "outputs": [],
   "source": [
    "df.sample(5)"
   ]
  },
  {
   "cell_type": "code",
   "execution_count": null,
   "metadata": {},
   "outputs": [],
   "source": [
    "print(df['acc','x'][0:10])\n",
    "fid=open(dataDir + 'binNew/Motion' + rangeStr + '.pkl','rb')\n",
    "dd=pickle.load(fid)\n",
    "print(dd['acc','x'][0:10])"
   ]
  },
  {
   "cell_type": "code",
   "execution_count": null,
   "metadata": {},
   "outputs": [],
   "source": [
    "bRange, eRange = 10000, 25000\n",
    "\n",
    "plt.plot(df['gyr','x'][bRange:eRange],label='gyrX')\n",
    "plt.plot(df['acc','x'][bRange:eRange],label='accX')\n",
    "plt.plot(df['mag','x'][bRange:eRange]*100,label='magX')\n",
    "plt.legend()\n",
    "plt.show()"
   ]
  },
  {
   "cell_type": "markdown",
   "metadata": {},
   "source": [
    "# May pass high pass filter to remove any remaining low frequencies from the data"
   ]
  },
  {
   "cell_type": "code",
   "execution_count": null,
   "metadata": {},
   "outputs": [],
   "source": [
    "elecList = list(range(2,6))+list(range(7,22))+list(range(23,32))\n",
    "pp.bandpass_filter(os.path.join(dataDir,'binNew'), os.path.join(dataDir,'binBand'), 'Elec{0}' + rangeStr + '.bin', elecList, freq=[300, 6000])"
   ]
  },
  {
   "cell_type": "code",
   "execution_count": null,
   "metadata": {},
   "outputs": [],
   "source": [
    "rng = [3,5]\n",
    "elc = 27\n",
    "\n",
    "fig, axes = pp.plotBin(os.path.join(dataDir,'binMed','Elec' + str(elc) + rangeStr + '.bin'), rng)\n",
    "fig.set_size_inches((10,5))"
   ]
  },
  {
   "cell_type": "code",
   "execution_count": null,
   "metadata": {},
   "outputs": [],
   "source": [
    "fig, axes = pp.plotBin(os.path.join(dataDir, 'binBand', 'Elec' + str(elc) + rangeStr + '.bin'), rng)\n",
    "fig.set_size_inches((10,5))"
   ]
  },
  {
   "cell_type": "code",
   "execution_count": null,
   "metadata": {},
   "outputs": [],
   "source": []
  },
  {
   "cell_type": "code",
   "execution_count": null,
   "metadata": {},
   "outputs": [],
   "source": []
  }
 ],
 "metadata": {
  "kernelspec": {
   "display_name": "Python 3",
   "language": "python",
   "name": "python3"
  },
  "language_info": {
   "codemirror_mode": {
    "name": "ipython",
    "version": 3
   },
   "file_extension": ".py",
   "mimetype": "text/x-python",
   "name": "python",
   "nbconvert_exporter": "python",
   "pygments_lexer": "ipython3",
   "version": "3.6.8"
  }
 },
 "nbformat": 4,
 "nbformat_minor": 4
}
